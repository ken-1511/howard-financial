{
 "cells": [
  {
   "cell_type": "code",
   "execution_count": 1,
   "id": "cdd18799-12ec-4a39-8e10-2955f0e5d373",
   "metadata": {},
   "outputs": [
    {
     "name": "stdout",
     "output_type": "stream",
     "text": [
      "📂 Current directory: C:\\Users\\dhoward\\howard-financial\\notebooks\n",
      "📁 Does src/ exist? True\n",
      "📄 Files in ../src: ['.ipynb_checkpoints', 'agent.py', 'data_processing.py', 'dsl.py', 'embedding_utils.py', 'howard_financial.egg-info', 'intents.py', 'vector_store.py', '__init__.py', '__pycache__']\n"
     ]
    }
   ],
   "source": [
    "\"\"\"01 - Indexing and Data Entry\n",
    "This notebook loads raw bank statement data, cleans it, structures it, and prepares it for \n",
    "vector embedding by writing an enriched CSV. This is Step 1 of the RAG pipeline.\n",
    "\"\"\"\n",
    "\n",
    "import os\n",
    "\n",
    "print(\"📂 Current directory:\", os.getcwd())\n",
    "print(\"📁 Does src/ exist?\", os.path.isdir(\"../src\"))\n",
    "print(\"📄 Files in ../src:\", os.listdir(\"../src\"))\n"
   ]
  },
  {
   "cell_type": "code",
   "execution_count": 2,
   "id": "34a52cb1-2362-47ea-be1f-f33b282ecf3e",
   "metadata": {},
   "outputs": [
    {
     "ename": "ModuleNotFoundError",
     "evalue": "No module named 'src.text_formatting'",
     "output_type": "error",
     "traceback": [
      "\u001b[31m---------------------------------------------------------------------------\u001b[39m",
      "\u001b[31mModuleNotFoundError\u001b[39m                       Traceback (most recent call last)",
      "\u001b[36mCell\u001b[39m\u001b[36m \u001b[39m\u001b[32mIn[2]\u001b[39m\u001b[32m, line 10\u001b[39m\n\u001b[32m      7\u001b[39m sys.path.append(\u001b[38;5;28mstr\u001b[39m(Path().resolve().parent))\n\u001b[32m      9\u001b[39m \u001b[38;5;66;03m# Force reload of the module to make sure you get the latest version\u001b[39;00m\n\u001b[32m---> \u001b[39m\u001b[32m10\u001b[39m \u001b[38;5;28;01mimport\u001b[39;00m\u001b[38;5;250m \u001b[39m\u001b[34;01msrc\u001b[39;00m\u001b[34;01m.\u001b[39;00m\u001b[34;01mtext_formatting\u001b[39;00m\n\u001b[32m     11\u001b[39m importlib.reload(src.text_formatting)\n\u001b[32m     13\u001b[39m \u001b[38;5;28;01mfrom\u001b[39;00m\u001b[38;5;250m \u001b[39m\u001b[34;01msrc\u001b[39;00m\u001b[34;01m.\u001b[39;00m\u001b[34;01mdata_processing\u001b[39;00m\u001b[38;5;250m \u001b[39m\u001b[38;5;28;01mimport\u001b[39;00m load_and_clean\n",
      "\u001b[31mModuleNotFoundError\u001b[39m: No module named 'src.text_formatting'"
     ]
    }
   ],
   "source": [
    "import pandas as pd\n",
    "import sys\n",
    "from pathlib import Path\n",
    "import importlib\n",
    "\n",
    "# Add src/ to path\n",
    "sys.path.append(str(Path().resolve().parent))\n",
    "\n",
    "# Force reload of the module to make sure you get the latest version\n",
    "import src.text_formatting\n",
    "importlib.reload(src.text_formatting)\n",
    "\n",
    "from src.data_processing import load_and_clean\n",
    "from src.text_formatting import enrich_metadata\n",
    "\n",
    "print(\"Modules imported and reloaded successfully.\")"
   ]
  },
  {
   "cell_type": "code",
   "execution_count": 4,
   "id": "61b4b56a-6196-449c-a21f-b4ddbaf15eba",
   "metadata": {},
   "outputs": [
    {
     "ename": "NameError",
     "evalue": "name 'load_and_clean' is not defined",
     "output_type": "error",
     "traceback": [
      "\u001b[31m---------------------------------------------------------------------------\u001b[39m",
      "\u001b[31mNameError\u001b[39m                                 Traceback (most recent call last)",
      "\u001b[36mCell\u001b[39m\u001b[36m \u001b[39m\u001b[32mIn[4]\u001b[39m\u001b[32m, line 2\u001b[39m\n\u001b[32m      1\u001b[39m RAW_FILE = \u001b[33m\"\u001b[39m\u001b[33m../data/raw/personal_finance_log.csv\u001b[39m\u001b[33m\"\u001b[39m\n\u001b[32m----> \u001b[39m\u001b[32m2\u001b[39m tx = load_and_clean(RAW_FILE)\n\u001b[32m      3\u001b[39m tx = enrich_metadata(tx)\n",
      "\u001b[31mNameError\u001b[39m: name 'load_and_clean' is not defined"
     ]
    }
   ],
   "source": [
    "RAW_FILE = \"../data/raw/personal_finance_log.csv\"\n",
    "tx = load_and_clean(RAW_FILE)\n",
    "tx = enrich_metadata(tx)"
   ]
  },
  {
   "cell_type": "code",
   "execution_count": null,
   "id": "77c4c512-e8b6-45bd-a3df-2d5a3b824ea6",
   "metadata": {},
   "outputs": [],
   "source": []
  }
 ],
 "metadata": {
  "kernelspec": {
   "display_name": "Python 3 (ipykernel)",
   "language": "python",
   "name": "python3"
  },
  "language_info": {
   "codemirror_mode": {
    "name": "ipython",
    "version": 3
   },
   "file_extension": ".py",
   "mimetype": "text/x-python",
   "name": "python",
   "nbconvert_exporter": "python",
   "pygments_lexer": "ipython3",
   "version": "3.11.11"
  }
 },
 "nbformat": 4,
 "nbformat_minor": 5
}
