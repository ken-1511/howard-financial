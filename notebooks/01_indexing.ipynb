{
 "cells": [
  {
   "cell_type": "code",
   "execution_count": 58,
   "id": "cdd18799-12ec-4a39-8e10-2955f0e5d373",
   "metadata": {},
   "outputs": [
    {
     "data": {
      "text/plain": [
       "'01 - Indexing and Data Entry\\nThis notebook loads raw bank statement data, cleans it, structures it, and prepares it for \\nvector embedding by writing an enriched CSV. This is Step 1 of the RAG pipeline.\\n'"
      ]
     },
     "execution_count": 58,
     "metadata": {},
     "output_type": "execute_result"
    }
   ],
   "source": [
    "\"\"\"01 - Indexing and Data Entry\n",
    "This notebook loads raw bank statement data, cleans it, structures it, and prepares it for \n",
    "vector embedding by writing an enriched CSV. This is Step 1 of the RAG pipeline.\n",
    "\"\"\""
   ]
  },
  {
   "cell_type": "code",
   "execution_count": 59,
   "id": "34a52cb1-2362-47ea-be1f-f33b282ecf3e",
   "metadata": {},
   "outputs": [
    {
     "name": "stdout",
     "output_type": "stream",
     "text": [
      "Modules imported and reloaded successfully.\n"
     ]
    }
   ],
   "source": [
    "import pandas as pd\n",
    "import sys\n",
    "from pathlib import Path\n",
    "import importlib\n",
    "\n",
    "# Add src/ to path\n",
    "sys.path.append(str(Path().resolve().parent))\n",
    "\n",
    "# Force reload of the module to make sure you get the latest version\n",
    "import src.text_formatting\n",
    "importlib.reload(src.text_formatting)\n",
    "\n",
    "from src.data_processing import load_and_clean\n",
    "from src.text_formatting import enrich_metadata\n",
    "\n",
    "print(\"Modules imported and reloaded successfully.\")"
   ]
  },
  {
   "cell_type": "code",
   "execution_count": 60,
   "id": "61b4b56a-6196-449c-a21f-b4ddbaf15eba",
   "metadata": {},
   "outputs": [],
   "source": [
    "RAW_FILE = \"../data/raw/personal_finance_log.csv\"\n",
    "tx = load_and_clean(RAW_FILE)\n",
    "tx = enrich_metadata(tx)"
   ]
  },
  {
   "cell_type": "code",
   "execution_count": null,
   "id": "77c4c512-e8b6-45bd-a3df-2d5a3b824ea6",
   "metadata": {},
   "outputs": [],
   "source": []
  }
 ],
 "metadata": {
  "kernelspec": {
   "display_name": "Python 3 (ipykernel)",
   "language": "python",
   "name": "python3"
  },
  "language_info": {
   "codemirror_mode": {
    "name": "ipython",
    "version": 3
   },
   "file_extension": ".py",
   "mimetype": "text/x-python",
   "name": "python",
   "nbconvert_exporter": "python",
   "pygments_lexer": "ipython3",
   "version": "3.11.11"
  }
 },
 "nbformat": 4,
 "nbformat_minor": 5
}
