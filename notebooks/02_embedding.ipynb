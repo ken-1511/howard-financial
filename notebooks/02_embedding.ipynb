{
 "cells": [
  {
   "cell_type": "code",
   "execution_count": 8,
   "id": "76f2207f-b8f9-409d-a26d-66be208a735b",
   "metadata": {},
   "outputs": [
    {
     "data": {
      "text/plain": [
       "'02 - Embedding & Vector Store\\nThis notebook computes sentence embeddings from the cleaned transactions data \\nand saves the results as a FAISS index (vector store) along with metadata. \\nThis is Step 2 of the RAG pipeline.\\n'"
      ]
     },
     "execution_count": 8,
     "metadata": {},
     "output_type": "execute_result"
    }
   ],
   "source": [
    "\"\"\"02 - Embedding & Vector Store\n",
    "This notebook computes sentence embeddings from the cleaned transactions data \n",
    "and saves the results as a FAISS index (vector store) along with metadata. \n",
    "This is Step 2 of the RAG pipeline.\n",
    "\"\"\""
   ]
  },
  {
   "cell_type": "code",
   "execution_count": 11,
   "id": "96d1c694-2d05-4f51-a577-911123832123",
   "metadata": {},
   "outputs": [
    {
     "name": "stdout",
     "output_type": "stream",
     "text": [
      "Successfully imported vector_store module.\n"
     ]
    }
   ],
   "source": [
    "import sys\n",
    "from pathlib import Path\n",
    "\n",
    "# Add src/ to Python path\n",
    "sys.path.append(str(Path().resolve().parent))\n",
    "\n",
    "from src.vector_store import build_and_save_vector_store, load_existing_vector_store, simple_query\n",
    "\n",
    "print(\"Successfully imported vector_store module.\")"
   ]
  },
  {
   "cell_type": "code",
   "execution_count": 15,
   "id": "e727ca93-a181-4b98-b3eb-45db199ba13d",
   "metadata": {},
   "outputs": [
    {
     "name": "stdout",
     "output_type": "stream",
     "text": [
      "Processed CSV:     C:\\Users\\dhoward\\howard-financial\\data\\processed\\embedding_ready_transactions.csv\n",
      "Vector store file: C:\\Users\\dhoward\\howard-financial\\data\\processed\\vector_store.faiss\n",
      "Metadata file:     C:\\Users\\dhoward\\howard-financial\\data\\processed\\metadata.pkl\n"
     ]
    }
   ],
   "source": [
    "# Define data + vector store paths\n",
    "\n",
    "PROCESSED_CSV = Path(\"../data/processed/embedding_ready_transactions.csv\")\n",
    "VECTOR_STORE_FILE = Path(\"../data/processed/vector_store.faiss\")  # using .faiss extension\n",
    "METADATA_FILE = Path(\"../data/processed/metadata.pkl\")\n",
    "\n",
    "# Print full resolved paths\n",
    "print(f\"Processed CSV:     {PROCESSED_CSV.resolve()}\")\n",
    "print(f\"Vector store file: {VECTOR_STORE_FILE.resolve()}\")\n",
    "print(f\"Metadata file:     {METADATA_FILE.resolve()}\")"
   ]
  },
  {
   "cell_type": "code",
   "execution_count": 16,
   "id": "5139e30b-e00a-4dec-a000-54ee6f3e3870",
   "metadata": {},
   "outputs": [
    {
     "name": "stdout",
     "output_type": "stream",
     "text": [
      "🔄 Loading processed data from ..\\data\\processed\\embedding_ready_transactions.csv...\n"
     ]
    },
    {
     "name": "stderr",
     "output_type": "stream",
     "text": [
      "C:\\Users\\dhoward\\.conda\\envs\\personalexpenses\\Lib\\site-packages\\huggingface_hub\\file_download.py:144: UserWarning: `huggingface_hub` cache-system uses symlinks by default to efficiently store duplicated files but your machine does not support them in C:\\Users\\dhoward\\.cache\\huggingface\\hub\\models--sentence-transformers--all-MiniLM-L6-v2. Caching files will still work but in a degraded version that might require more space on your disk. This warning can be disabled by setting the `HF_HUB_DISABLE_SYMLINKS_WARNING` environment variable. For more details, see https://huggingface.co/docs/huggingface_hub/how-to-cache#limitations.\n",
      "To support symlinks on Windows, you either need to activate Developer Mode or to run Python as an administrator. In order to activate developer mode, see this article: https://docs.microsoft.com/en-us/windows/apps/get-started/enable-your-device-for-development\n",
      "  warnings.warn(message)\n",
      "Xet Storage is enabled for this repo, but the 'hf_xet' package is not installed. Falling back to regular HTTP download. For better performance, install the package with: `pip install huggingface_hub[hf_xet]` or `pip install hf_xet`\n"
     ]
    },
    {
     "name": "stdout",
     "output_type": "stream",
     "text": [
      "🔄 Embedding 102 records using model 'all-MiniLM-L6-v2'...\n"
     ]
    },
    {
     "name": "stderr",
     "output_type": "stream",
     "text": [
      "Batches: 100%|██████████| 4/4 [00:00<00:00, 15.93it/s]"
     ]
    },
    {
     "name": "stdout",
     "output_type": "stream",
     "text": [
      "✅ Saved FAISS index to C:\\Users\\dhoward\\howard-financial\\data\\processed\\vector_store.faiss\n",
      "✅ Saved metadata to C:\\Users\\dhoward\\howard-financial\\data\\processed\\metadata.pkl\n",
      "✅ Vector store built and saved successfully.\n"
     ]
    },
    {
     "name": "stderr",
     "output_type": "stream",
     "text": [
      "\n"
     ]
    }
   ],
   "source": [
    "# Build and save the vector store (embeddings + FAISS index + metadata)\n",
    "build_and_save_vector_store(\n",
    "    processed_csv=PROCESSED_CSV,\n",
    "    vector_store_file=VECTOR_STORE_FILE,\n",
    "    metadata_file=METADATA_FILE,\n",
    "    text_col=\"text\",  # default\n",
    "    model_name=\"all-MiniLM-L6-v2\"\n",
    ")"
   ]
  },
  {
   "cell_type": "code",
   "execution_count": 19,
   "id": "cf8af4d8-4309-490f-911e-dded570e62c8",
   "metadata": {},
   "outputs": [
    {
     "name": "stdout",
     "output_type": "stream",
     "text": [
      "✅ Loaded FAISS index and metadata successfully.\n",
      "✅ FAISS index loaded with 102 vectors.\n",
      "Metadata sample:\n"
     ]
    },
    {
     "data": {
      "text/html": [
       "<div>\n",
       "<style scoped>\n",
       "    .dataframe tbody tr th:only-of-type {\n",
       "        vertical-align: middle;\n",
       "    }\n",
       "\n",
       "    .dataframe tbody tr th {\n",
       "        vertical-align: top;\n",
       "    }\n",
       "\n",
       "    .dataframe thead th {\n",
       "        text-align: right;\n",
       "    }\n",
       "</style>\n",
       "<table border=\"1\" class=\"dataframe\">\n",
       "  <thead>\n",
       "    <tr style=\"text-align: right;\">\n",
       "      <th></th>\n",
       "      <th>text</th>\n",
       "      <th>Dollars</th>\n",
       "      <th>Date</th>\n",
       "      <th>Account</th>\n",
       "      <th>Type</th>\n",
       "      <th>Category</th>\n",
       "      <th>Vendor</th>\n",
       "      <th>Tags</th>\n",
       "      <th>Amount</th>\n",
       "      <th>weekday</th>\n",
       "      <th>is_weekend</th>\n",
       "      <th>is_fixed</th>\n",
       "    </tr>\n",
       "  </thead>\n",
       "  <tbody>\n",
       "    <tr>\n",
       "      <th>0</th>\n",
       "      <td>On 2025-04-01, you spent $775.00 at 6640 pasad...</td>\n",
       "      <td>($775.00)</td>\n",
       "      <td>2025-04-01</td>\n",
       "      <td>usaa s</td>\n",
       "      <td>expense</td>\n",
       "      <td>rent</td>\n",
       "      <td>6640 pasado</td>\n",
       "      <td>NaN</td>\n",
       "      <td>775.00</td>\n",
       "      <td>Tuesday</td>\n",
       "      <td>False</td>\n",
       "      <td>True</td>\n",
       "    </tr>\n",
       "    <tr>\n",
       "      <th>1</th>\n",
       "      <td>On 2025-04-01, you spent $11.00 at coral tree ...</td>\n",
       "      <td>($11.00)</td>\n",
       "      <td>2025-04-01</td>\n",
       "      <td>usaa c</td>\n",
       "      <td>expense</td>\n",
       "      <td>food</td>\n",
       "      <td>coral tree</td>\n",
       "      <td>eating out</td>\n",
       "      <td>11.00</td>\n",
       "      <td>Tuesday</td>\n",
       "      <td>False</td>\n",
       "      <td>False</td>\n",
       "    </tr>\n",
       "    <tr>\n",
       "      <th>2</th>\n",
       "      <td>On 2025-04-02, you spent $5.99 at spotify (Cat...</td>\n",
       "      <td>($5.99)</td>\n",
       "      <td>2025-04-02</td>\n",
       "      <td>usaa c</td>\n",
       "      <td>expense</td>\n",
       "      <td>subscription</td>\n",
       "      <td>spotify</td>\n",
       "      <td>NaN</td>\n",
       "      <td>5.99</td>\n",
       "      <td>Wednesday</td>\n",
       "      <td>False</td>\n",
       "      <td>True</td>\n",
       "    </tr>\n",
       "    <tr>\n",
       "      <th>3</th>\n",
       "      <td>On 2025-04-03, you spent $5.30 at ucsb (Catego...</td>\n",
       "      <td>($5.30)</td>\n",
       "      <td>2025-04-03</td>\n",
       "      <td>usaa c</td>\n",
       "      <td>expense</td>\n",
       "      <td>parking</td>\n",
       "      <td>ucsb</td>\n",
       "      <td>NaN</td>\n",
       "      <td>5.30</td>\n",
       "      <td>Thursday</td>\n",
       "      <td>False</td>\n",
       "      <td>False</td>\n",
       "    </tr>\n",
       "    <tr>\n",
       "      <th>4</th>\n",
       "      <td>On 2025-04-07, a transaction of $83.99 occurre...</td>\n",
       "      <td>$83.99</td>\n",
       "      <td>2025-04-07</td>\n",
       "      <td>usaa c</td>\n",
       "      <td>reimburstment</td>\n",
       "      <td>lodging</td>\n",
       "      <td>slo hotel</td>\n",
       "      <td>NaN</td>\n",
       "      <td>-83.99</td>\n",
       "      <td>Monday</td>\n",
       "      <td>False</td>\n",
       "      <td>False</td>\n",
       "    </tr>\n",
       "  </tbody>\n",
       "</table>\n",
       "</div>"
      ],
      "text/plain": [
       "                                                text    Dollars        Date  \\\n",
       "0  On 2025-04-01, you spent $775.00 at 6640 pasad...  ($775.00)  2025-04-01   \n",
       "1  On 2025-04-01, you spent $11.00 at coral tree ...   ($11.00)  2025-04-01   \n",
       "2  On 2025-04-02, you spent $5.99 at spotify (Cat...    ($5.99)  2025-04-02   \n",
       "3  On 2025-04-03, you spent $5.30 at ucsb (Catego...    ($5.30)  2025-04-03   \n",
       "4  On 2025-04-07, a transaction of $83.99 occurre...    $83.99   2025-04-07   \n",
       "\n",
       "  Account           Type      Category       Vendor        Tags  Amount  \\\n",
       "0  usaa s        expense          rent  6640 pasado         NaN  775.00   \n",
       "1  usaa c        expense          food   coral tree  eating out   11.00   \n",
       "2  usaa c        expense  subscription      spotify         NaN    5.99   \n",
       "3  usaa c        expense       parking         ucsb         NaN    5.30   \n",
       "4  usaa c  reimburstment       lodging    slo hotel         NaN  -83.99   \n",
       "\n",
       "     weekday  is_weekend  is_fixed  \n",
       "0    Tuesday       False      True  \n",
       "1    Tuesday       False     False  \n",
       "2  Wednesday       False      True  \n",
       "3   Thursday       False     False  \n",
       "4     Monday       False     False  "
      ]
     },
     "metadata": {},
     "output_type": "display_data"
    }
   ],
   "source": [
    "# Load the saved vector store to preview\n",
    "index, metadata = load_existing_vector_store(\n",
    "    vector_store_file=VECTOR_STORE_FILE,\n",
    "    metadata_file=METADATA_FILE\n",
    ")\n",
    "\n",
    "print(f\"✅ FAISS index loaded with {index.ntotal} vectors.\")\n",
    "print(\"Metadata sample:\")\n",
    "display(metadata.head())"
   ]
  },
  {
   "cell_type": "code",
   "execution_count": 22,
   "id": "2c302ea0-05f5-455b-a8f7-b22122790500",
   "metadata": {},
   "outputs": [
    {
     "name": "stdout",
     "output_type": "stream",
     "text": [
      "🔎 Top results for query: 'how much did I spend on food at blenders?'\n"
     ]
    },
    {
     "data": {
      "text/html": [
       "<div>\n",
       "<style scoped>\n",
       "    .dataframe tbody tr th:only-of-type {\n",
       "        vertical-align: middle;\n",
       "    }\n",
       "\n",
       "    .dataframe tbody tr th {\n",
       "        vertical-align: top;\n",
       "    }\n",
       "\n",
       "    .dataframe thead th {\n",
       "        text-align: right;\n",
       "    }\n",
       "</style>\n",
       "<table border=\"1\" class=\"dataframe\">\n",
       "  <thead>\n",
       "    <tr style=\"text-align: right;\">\n",
       "      <th></th>\n",
       "      <th>text</th>\n",
       "      <th>Dollars</th>\n",
       "      <th>Date</th>\n",
       "      <th>Account</th>\n",
       "      <th>Type</th>\n",
       "      <th>Category</th>\n",
       "      <th>Vendor</th>\n",
       "      <th>Tags</th>\n",
       "      <th>Amount</th>\n",
       "      <th>weekday</th>\n",
       "      <th>is_weekend</th>\n",
       "      <th>is_fixed</th>\n",
       "      <th>similarity_score</th>\n",
       "    </tr>\n",
       "  </thead>\n",
       "  <tbody>\n",
       "    <tr>\n",
       "      <th>0</th>\n",
       "      <td>On 2025-04-08, you spent $9.00 at blenders (Ca...</td>\n",
       "      <td>($9.00)</td>\n",
       "      <td>2025-04-08</td>\n",
       "      <td>usaa c</td>\n",
       "      <td>expense</td>\n",
       "      <td>food</td>\n",
       "      <td>blenders</td>\n",
       "      <td>eating out</td>\n",
       "      <td>9.00</td>\n",
       "      <td>Tuesday</td>\n",
       "      <td>False</td>\n",
       "      <td>False</td>\n",
       "      <td>0.573938</td>\n",
       "    </tr>\n",
       "    <tr>\n",
       "      <th>1</th>\n",
       "      <td>On 2025-04-14, you spent $17.23 at pizza (Cate...</td>\n",
       "      <td>($17.23)</td>\n",
       "      <td>2025-04-14</td>\n",
       "      <td>usaa c</td>\n",
       "      <td>expense</td>\n",
       "      <td>food</td>\n",
       "      <td>pizza</td>\n",
       "      <td>yosemite, eating out, fast food</td>\n",
       "      <td>17.23</td>\n",
       "      <td>Monday</td>\n",
       "      <td>False</td>\n",
       "      <td>False</td>\n",
       "      <td>0.490238</td>\n",
       "    </tr>\n",
       "    <tr>\n",
       "      <th>2</th>\n",
       "      <td>On 2025-04-09, you spent $7.59 at costco (Cate...</td>\n",
       "      <td>($7.59)</td>\n",
       "      <td>2025-04-09</td>\n",
       "      <td>usaa c</td>\n",
       "      <td>expense</td>\n",
       "      <td>food</td>\n",
       "      <td>costco</td>\n",
       "      <td>eating out, fast food</td>\n",
       "      <td>7.59</td>\n",
       "      <td>Wednesday</td>\n",
       "      <td>False</td>\n",
       "      <td>False</td>\n",
       "      <td>0.472417</td>\n",
       "    </tr>\n",
       "    <tr>\n",
       "      <th>3</th>\n",
       "      <td>On 2025-04-14, you spent $8.37 at convenience ...</td>\n",
       "      <td>($8.37)</td>\n",
       "      <td>2025-04-14</td>\n",
       "      <td>usaa c</td>\n",
       "      <td>expense</td>\n",
       "      <td>food</td>\n",
       "      <td>convenience store</td>\n",
       "      <td>yosemite, beverage</td>\n",
       "      <td>8.37</td>\n",
       "      <td>Monday</td>\n",
       "      <td>False</td>\n",
       "      <td>False</td>\n",
       "      <td>0.469631</td>\n",
       "    </tr>\n",
       "    <tr>\n",
       "      <th>4</th>\n",
       "      <td>On 2025-04-23, you spent $27.06 at kyles kitch...</td>\n",
       "      <td>($27.06)</td>\n",
       "      <td>2025-04-23</td>\n",
       "      <td>usaa c</td>\n",
       "      <td>expense</td>\n",
       "      <td>food</td>\n",
       "      <td>kyles kitchen</td>\n",
       "      <td>eating out, fast food</td>\n",
       "      <td>27.06</td>\n",
       "      <td>Wednesday</td>\n",
       "      <td>False</td>\n",
       "      <td>False</td>\n",
       "      <td>0.466078</td>\n",
       "    </tr>\n",
       "  </tbody>\n",
       "</table>\n",
       "</div>"
      ],
      "text/plain": [
       "                                                text   Dollars        Date  \\\n",
       "0  On 2025-04-08, you spent $9.00 at blenders (Ca...   ($9.00)  2025-04-08   \n",
       "1  On 2025-04-14, you spent $17.23 at pizza (Cate...  ($17.23)  2025-04-14   \n",
       "2  On 2025-04-09, you spent $7.59 at costco (Cate...   ($7.59)  2025-04-09   \n",
       "3  On 2025-04-14, you spent $8.37 at convenience ...   ($8.37)  2025-04-14   \n",
       "4  On 2025-04-23, you spent $27.06 at kyles kitch...  ($27.06)  2025-04-23   \n",
       "\n",
       "  Account     Type Category             Vendor  \\\n",
       "0  usaa c  expense     food           blenders   \n",
       "1  usaa c  expense     food              pizza   \n",
       "2  usaa c  expense     food             costco   \n",
       "3  usaa c  expense     food  convenience store   \n",
       "4  usaa c  expense     food      kyles kitchen   \n",
       "\n",
       "                              Tags  Amount    weekday  is_weekend  is_fixed  \\\n",
       "0                       eating out    9.00    Tuesday       False     False   \n",
       "1  yosemite, eating out, fast food   17.23     Monday       False     False   \n",
       "2            eating out, fast food    7.59  Wednesday       False     False   \n",
       "3               yosemite, beverage    8.37     Monday       False     False   \n",
       "4            eating out, fast food   27.06  Wednesday       False     False   \n",
       "\n",
       "   similarity_score  \n",
       "0          0.573938  \n",
       "1          0.490238  \n",
       "2          0.472417  \n",
       "3          0.469631  \n",
       "4          0.466078  "
      ]
     },
     "metadata": {},
     "output_type": "display_data"
    }
   ],
   "source": [
    "# Run a test query to verify the vector store is functional\n",
    "\n",
    "query_text = \"how much did I spend on food at blenders?\"\n",
    "results = simple_query(\n",
    "    query_text=query_text,\n",
    "    index=index,\n",
    "    metadata=metadata,\n",
    "    model_name=\"all-MiniLM-L6-v2\",\n",
    "    top_k=5\n",
    ")\n",
    "\n",
    "print(f\"🔎 Top results for query: '{query_text}'\")\n",
    "display(results)"
   ]
  },
  {
   "cell_type": "code",
   "execution_count": null,
   "id": "df41f9b9-feb7-4d3d-9b72-52fa7e01ea34",
   "metadata": {},
   "outputs": [],
   "source": []
  }
 ],
 "metadata": {
  "kernelspec": {
   "display_name": "Python 3 (ipykernel)",
   "language": "python",
   "name": "python3"
  },
  "language_info": {
   "codemirror_mode": {
    "name": "ipython",
    "version": 3
   },
   "file_extension": ".py",
   "mimetype": "text/x-python",
   "name": "python",
   "nbconvert_exporter": "python",
   "pygments_lexer": "ipython3",
   "version": "3.11.11"
  }
 },
 "nbformat": 4,
 "nbformat_minor": 5
}
